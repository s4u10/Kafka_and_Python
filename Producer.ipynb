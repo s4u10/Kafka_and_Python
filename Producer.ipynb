{
  "nbformat": 4,
  "nbformat_minor": 0,
  "metadata": {
    "colab": {
      "name": "Producer.ipynb",
      "provenance": [],
      "collapsed_sections": [],
      "authorship_tag": "ABX9TyNWdYTsTK1UeYJc5sjxwyOm",
      "include_colab_link": true
    },
    "kernelspec": {
      "name": "python3",
      "display_name": "Python 3"
    },
    "language_info": {
      "name": "python"
    }
  },
  "cells": [
    {
      "cell_type": "markdown",
      "metadata": {
        "id": "view-in-github",
        "colab_type": "text"
      },
      "source": [
        "<a href=\"https://colab.research.google.com/github/s4u10/Kafka_and_Python/blob/main/Producer.ipynb\" target=\"_parent\"><img src=\"https://colab.research.google.com/assets/colab-badge.svg\" alt=\"Open In Colab\"/></a>"
      ]
    },
    {
      "cell_type": "code",
      "metadata": {
        "colab": {
          "base_uri": "https://localhost:8080/"
        },
        "id": "04-3VpHMdaS1",
        "outputId": "f6e76f2b-bb80-402e-8258-0140d946a0ae"
      },
      "source": [
        "!pip install confluent_kafka"
      ],
      "execution_count": null,
      "outputs": [
        {
          "output_type": "stream",
          "name": "stdout",
          "text": [
            "Collecting confluent_kafka\n",
            "  Downloading confluent_kafka-1.7.0-cp37-cp37m-manylinux2010_x86_64.whl (2.7 MB)\n",
            "\u001b[K     |████████████████████████████████| 2.7 MB 4.2 MB/s \n",
            "\u001b[?25hInstalling collected packages: confluent-kafka\n",
            "Successfully installed confluent-kafka-1.7.0\n"
          ]
        }
      ]
    },
    {
      "cell_type": "code",
      "metadata": {
        "colab": {
          "base_uri": "https://localhost:8080/"
        },
        "id": "_sDwZOH9d86w",
        "outputId": "04924683-ee65-4f3b-9343-a76b0af8ed96"
      },
      "source": [
        "import sys\n",
        "import os\n",
        "\n",
        "from confluent_kafka import Producer\n",
        "\n",
        "def delivery_callback(err, msg):\n",
        "    if err:\n",
        "        print('%% Message failed delivery: %s\\n', err)\n",
        "    else:\n",
        "        print('%% Message delivered to %s [%d]\\n',\n",
        "                          (msg.topic(), msg.partition()))\n",
        "\n",
        "def createTopic():\n",
        "    print(\"init\");\n",
        "    #topic = '25fi2ymi-topic1'\n",
        "    topic = 't1ngonl0-default'\n",
        "\n",
        "    # Consumer configuration\n",
        "    # See https://github.com/edenhill/librdkafka/blob/master/CONFIGURATION.md\n",
        "    conf = {\n",
        "        'bootstrap.servers': 'glider-01.srvs.cloudkafka.com:9094,glider-02.srvs.cloudkafka.com:9094,glider-03.srvs.cloudkafka.com:9094',\n",
        "        'session.timeout.ms': 6000,\n",
        "        'default.topic.config': {'auto.offset.reset': 'smallest'},\n",
        "        'security.protocol': 'SASL_SSL',\n",
        "\t'sasl.mechanisms': 'SCRAM-SHA-256',\n",
        "        'sasl.username': 't1ngonl0',\n",
        "        'sasl.password': 'LxbniDGTymeM38ah9iQPj1hf2L3HF3N5'\n",
        "    }\n",
        "\n",
        "    p = Producer(conf)\n",
        "\n",
        "    try:\n",
        "        p.produce(topic, \"my message new 2\", callback=delivery_callback)\n",
        "    except BufferError as e:\n",
        "        print('%% Local producer queue is full (%d messages awaiting delivery): try again\\n',\n",
        "                          len(p))\n",
        "    p.poll(0)\n",
        "\n",
        "    print('%% Waiting for %d deliveries\\n' % len(p))\n",
        "    p.flush()\n",
        "\n",
        "createTopic();"
      ],
      "execution_count": null,
      "outputs": [
        {
          "output_type": "stream",
          "name": "stdout",
          "text": [
            "init\n",
            "% Waiting for 1 deliveries\n",
            "\n",
            "%% Message delivered to %s [%d]\n",
            " ('t1ngonl0-default', 3)\n"
          ]
        }
      ]
    }
  ]
}