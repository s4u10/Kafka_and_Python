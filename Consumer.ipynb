{
  "nbformat": 4,
  "nbformat_minor": 0,
  "metadata": {
    "colab": {
      "name": "Consumer.ipynb",
      "provenance": [],
      "collapsed_sections": [],
      "authorship_tag": "ABX9TyPTzsRkYdwMnPZr+IiuYHNW",
      "include_colab_link": true
    },
    "kernelspec": {
      "name": "python3",
      "display_name": "Python 3"
    },
    "language_info": {
      "name": "python"
    }
  },
  "cells": [
    {
      "cell_type": "markdown",
      "metadata": {
        "id": "view-in-github",
        "colab_type": "text"
      },
      "source": [
        "<a href=\"https://colab.research.google.com/github/s4u10/Kafka_and_Python/blob/main/Consumer.ipynb\" target=\"_parent\"><img src=\"https://colab.research.google.com/assets/colab-badge.svg\" alt=\"Open In Colab\"/></a>"
      ]
    },
    {
      "cell_type": "code",
      "metadata": {
        "colab": {
          "base_uri": "https://localhost:8080/"
        },
        "id": "0HV3sSR6pPZw",
        "outputId": "aad74ae4-ef33-4be5-af64-5accbfdd23ca"
      },
      "source": [
        "!pip install confluent_kafka"
      ],
      "execution_count": 1,
      "outputs": [
        {
          "output_type": "stream",
          "name": "stdout",
          "text": [
            "Collecting confluent_kafka\n",
            "  Downloading confluent_kafka-1.7.0-cp37-cp37m-manylinux2010_x86_64.whl (2.7 MB)\n",
            "\u001b[K     |████████████████████████████████| 2.7 MB 3.7 MB/s \n",
            "\u001b[?25hInstalling collected packages: confluent-kafka\n",
            "Successfully installed confluent-kafka-1.7.0\n"
          ]
        }
      ]
    },
    {
      "cell_type": "code",
      "metadata": {
        "id": "Fg_f72szpdw3",
        "colab": {
          "base_uri": "https://localhost:8080/"
        },
        "outputId": "d582a367-4b96-41f7-c0a1-232f3dea6ed7"
      },
      "source": [
        "import sys\n",
        "import os\n",
        "\n",
        "from confluent_kafka import Consumer, KafkaException, KafkaError\n",
        "\n",
        "def createConsumer():\n",
        "\n",
        "    topics = ['t1ngonl0-default']\n",
        "\n",
        "    # Consumer configuration\n",
        "    # See https://github.com/edenhill/librdkafka/blob/master/CONFIGURATION.md\n",
        "    conf = {\n",
        "        'bootstrap.servers': 'glider-01.srvs.cloudkafka.com:9094,glider-02.srvs.cloudkafka.com:9094,glider-03.srvs.cloudkafka.com:9094',\n",
        "        'group.id': \"%s-consumer\" % 't1ngonl0',\n",
        "        'session.timeout.ms': 6000,\n",
        "        'default.topic.config': {'auto.offset.reset': 'smallest'},\n",
        "        'security.protocol': 'SASL_SSL',\n",
        "\t'sasl.mechanisms': 'SCRAM-SHA-256',\n",
        "        'sasl.username': 't1ngonl0',\n",
        "        'sasl.password': 'LxbniDGTymeM38ah9iQPj1hf2L3HF3N5'\n",
        "    }\n",
        "\n",
        "    c = Consumer(conf)\n",
        "    c.subscribe(topics)\n",
        "    try:\n",
        "        while True:\n",
        "            msg = c.poll(timeout=1.0)\n",
        "            if msg is None:\n",
        "                continue\n",
        "            if msg.error():\n",
        "                # Error or event\n",
        "                if msg.error().code() == KafkaError._PARTITION_EOF:\n",
        "                    # End of partition event\n",
        "                    sys.stderr.write('%% %s [%d] reached end at offset %d\\n' %\n",
        "                                     (msg.topic(), msg.partition(), msg.offset()))\n",
        "                elif msg.error():\n",
        "                    # Error\n",
        "                    raise KafkaException(msg.error())\n",
        "            else:\n",
        "                # Proper message\n",
        "                sys.stderr.write('%% %s [%d] at offset %d with key %s:\\n' %\n",
        "                                 (msg.topic(), msg.partition(), msg.offset(),\n",
        "                                  str(msg.key())))\n",
        "                print(msg.value())\n",
        "\n",
        "    except KeyboardInterrupt:\n",
        "        sys.stderr.write('%% Aborted by user\\n')\n",
        "\n",
        "    # Close down consumer to commit final offsets.\n",
        "    c.close()\n",
        "\n",
        "createConsumer()"
      ],
      "execution_count": 2,
      "outputs": [
        {
          "output_type": "stream",
          "name": "stderr",
          "text": [
            "% t1ngonl0-default [4] at offset 0 with key None:\n"
          ]
        },
        {
          "output_type": "stream",
          "name": "stdout",
          "text": [
            "b'my message new 2'\n"
          ]
        },
        {
          "output_type": "stream",
          "name": "stderr",
          "text": [
            "% t1ngonl0-default [0] at offset 0 with key None:\n"
          ]
        },
        {
          "output_type": "stream",
          "name": "stdout",
          "text": [
            "b'my message new 2'\n"
          ]
        },
        {
          "output_type": "stream",
          "name": "stderr",
          "text": [
            "% t1ngonl0-default [1] at offset 0 with key None:\n"
          ]
        },
        {
          "output_type": "stream",
          "name": "stdout",
          "text": [
            "b'my message new 2'\n"
          ]
        },
        {
          "output_type": "stream",
          "name": "stderr",
          "text": [
            "% t1ngonl0-default [0] at offset 1 with key None:\n"
          ]
        },
        {
          "output_type": "stream",
          "name": "stdout",
          "text": [
            "b'my message new 2'\n"
          ]
        },
        {
          "output_type": "stream",
          "name": "stderr",
          "text": [
            "%% Aborted by user\n"
          ]
        }
      ]
    }
  ]
}